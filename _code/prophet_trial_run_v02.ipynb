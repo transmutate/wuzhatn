{
 "cells": [
  {
   "cell_type": "code",
   "execution_count": 2,
   "metadata": {},
   "outputs": [
    {
     "name": "stderr",
     "output_type": "stream",
     "text": [
      "ERROR:fbprophet:Importing plotly failed. Interactive plots will not work.\n"
     ]
    }
   ],
   "source": [
    "import numpy as np\n",
    "import pandas as pd\n",
    "import matplotlib.pyplot as plt\n",
    "import datetime as de\n",
    "import os\n",
    "import sys\n",
    "\n",
    "import fbprophet\n",
    "\n",
    "pd.options.mode.chained_assignment = None  # default='warn'\n",
    "pd.set_option('display.max_rows', None)\n",
    "pd.set_option('display.max_columns', None)\n",
    "pd.set_option('display.max_colwidth', -1)\n",
    "\n",
    "import seaborn as sns\n",
    "sns.set(context='paper', style='darkgrid', rc={'figure.facecolor':'white'}, font_scale=1.2)"
   ]
  },
  {
   "cell_type": "code",
   "execution_count": 3,
   "metadata": {},
   "outputs": [],
   "source": [
    "import matplotlib.pyplot as plt\n",
    "import seaborn as sns\n",
    "sns.set(context='paper', style='darkgrid', rc={'figure.facecolor':'white'}, font_scale=1.2)"
   ]
  },
  {
   "cell_type": "code",
   "execution_count": 4,
   "metadata": {},
   "outputs": [],
   "source": [
    "win_path = 'C:/Users/noname/Desktop/wuzhatn'\n",
    "mac_path = '/Users/noname/documents/github/wuzhatn'\n",
    "wrk_path = 'C:/Users/user/Documents/GitHub/wuzhatn'\n",
    "\n",
    "if os.path.exists(win_path):\n",
    "    main = win_path\n",
    "elif os.path.exists(mac_path):\n",
    "    main = mac_path\n",
    "else:\n",
    "    main = wrk_path\n",
    "\n",
    "raw = main + '/raw'\n",
    "bank_folder = main[:main.rfind('/')] + '/bank'\n",
    "sys.path.append(bank_folder)\n",
    "import mih\n",
    "\n",
    "years = range(2011,2019,1)\n",
    "y2u = range(2015,2018,1)\n",
    "st = '2015-1-1'\n",
    "ed = '2017-3-31'\n",
    "# ed = '2017-12-31'"
   ]
  },
  {
   "cell_type": "code",
   "execution_count": 5,
   "metadata": {},
   "outputs": [
    {
     "name": "stdout",
     "output_type": "stream",
     "text": [
      "C:/Users/user/Documents/GitHub/wuzhatn\n",
      "C:/Users/user/Documents/GitHub\n"
     ]
    }
   ],
   "source": [
    "print(wrk_path)\n",
    "wrk_path.rfind('/')\n",
    "print(wrk_path[:30])"
   ]
  },
  {
   "cell_type": "code",
   "execution_count": 6,
   "metadata": {},
   "outputs": [],
   "source": [
    "all_ds = {}\n",
    "hum_ds = {}\n",
    "for y in y2u:\n",
    "    all_ds[y] = pd.read_excel(f'{raw}/일별평균대기오염도_{str(y)}.xlsx', usecols=[0,1,6,7])\n",
    "    all_ds[y].columns = ['dt','loca','pm10','pm25']\n",
    "    all_ds[y]['loca'] = all_ds[y]['loca'].str[:-1]\n",
    "    all_ds[y].dropna(axis=1, how='all', inplace=True)\n",
    "    \n",
    "    hum_ds[y] = pd.read_excel(f'{raw}/일별기상관측_{str(y)}.xlsx', usecols=[0,1,5])\n",
    "    hum_ds[y].columns = ['dt','loca','ave_hum']\n",
    "    all_ds[y].dropna(axis=1, how='all', inplace=True)"
   ]
  },
  {
   "cell_type": "code",
   "execution_count": null,
   "metadata": {},
   "outputs": [],
   "source": []
  },
  {
   "cell_type": "markdown",
   "metadata": {},
   "source": [
    "# let's just work with gangnam"
   ]
  },
  {
   "cell_type": "code",
   "execution_count": 7,
   "metadata": {},
   "outputs": [
    {
     "data": {
      "text/html": [
       "<div>\n",
       "<style scoped>\n",
       "    .dataframe tbody tr th:only-of-type {\n",
       "        vertical-align: middle;\n",
       "    }\n",
       "\n",
       "    .dataframe tbody tr th {\n",
       "        vertical-align: top;\n",
       "    }\n",
       "\n",
       "    .dataframe thead th {\n",
       "        text-align: right;\n",
       "    }\n",
       "</style>\n",
       "<table border=\"1\" class=\"dataframe\">\n",
       "  <thead>\n",
       "    <tr style=\"text-align: right;\">\n",
       "      <th></th>\n",
       "      <th>loca</th>\n",
       "      <th>pm10</th>\n",
       "      <th>pm25</th>\n",
       "      <th>ave_hum</th>\n",
       "    </tr>\n",
       "  </thead>\n",
       "  <tbody>\n",
       "    <tr>\n",
       "      <th>2015-01-01</th>\n",
       "      <td>종로</td>\n",
       "      <td>80.0</td>\n",
       "      <td>9.0</td>\n",
       "      <td>41.3</td>\n",
       "    </tr>\n",
       "    <tr>\n",
       "      <th>2015-01-02</th>\n",
       "      <td>종로</td>\n",
       "      <td>31.0</td>\n",
       "      <td>13.0</td>\n",
       "      <td>47.0</td>\n",
       "    </tr>\n",
       "    <tr>\n",
       "      <th>2015-01-03</th>\n",
       "      <td>종로</td>\n",
       "      <td>42.0</td>\n",
       "      <td>21.0</td>\n",
       "      <td>55.9</td>\n",
       "    </tr>\n",
       "    <tr>\n",
       "      <th>2015-01-04</th>\n",
       "      <td>종로</td>\n",
       "      <td>49.0</td>\n",
       "      <td>25.0</td>\n",
       "      <td>68.7</td>\n",
       "    </tr>\n",
       "    <tr>\n",
       "      <th>2015-01-05</th>\n",
       "      <td>종로</td>\n",
       "      <td>87.0</td>\n",
       "      <td>41.0</td>\n",
       "      <td>70.7</td>\n",
       "    </tr>\n",
       "  </tbody>\n",
       "</table>\n",
       "</div>"
      ],
      "text/plain": [
       "           loca  pm10  pm25  ave_hum\n",
       "2015-01-01  종로   80.0  9.0   41.3   \n",
       "2015-01-02  종로   31.0  13.0  47.0   \n",
       "2015-01-03  종로   42.0  21.0  55.9   \n",
       "2015-01-04  종로   49.0  25.0  68.7   \n",
       "2015-01-05  종로   87.0  41.0  70.7   "
      ]
     },
     "execution_count": 7,
     "metadata": {},
     "output_type": "execute_result"
    }
   ],
   "source": [
    "ds = pd.DataFrame()\n",
    "for y in y2u:\n",
    "    t = all_ds[y][all_ds[y]['loca']=='종로'].merge(\n",
    "        hum_ds[y][hum_ds[y]['loca']=='종로'], on=['dt','loca'], how='outer')\n",
    "    ds = ds.append(t)\n",
    "    \n",
    "ds['dt'] = pd.to_datetime(ds['dt'], format='%Y%m%d')\n",
    "ds.set_index('dt', inplace=True)\n",
    "fm2 = pd.date_range(st,ed)\n",
    "ds = ds.reindex(fm2, fill_value=np.nan)\n",
    "\n",
    "ds.loc[ds['loca'].isna()==True,'loca'] = '종로'\n",
    "# for v in ds.columns[ds.isnull().any()]:\n",
    "#     ds[v] = ds[v].interpolate(method='linear')\n",
    "\n",
    "ds.head()"
   ]
  },
  {
   "cell_type": "code",
   "execution_count": 22,
   "metadata": {},
   "outputs": [
    {
     "data": {
      "text/html": [
       "<div>\n",
       "<style scoped>\n",
       "    .dataframe tbody tr th:only-of-type {\n",
       "        vertical-align: middle;\n",
       "    }\n",
       "\n",
       "    .dataframe tbody tr th {\n",
       "        vertical-align: top;\n",
       "    }\n",
       "\n",
       "    .dataframe thead th {\n",
       "        text-align: right;\n",
       "    }\n",
       "</style>\n",
       "<table border=\"1\" class=\"dataframe\">\n",
       "  <thead>\n",
       "    <tr style=\"text-align: right;\">\n",
       "      <th></th>\n",
       "      <th>loca</th>\n",
       "      <th>pm10</th>\n",
       "      <th>pm25</th>\n",
       "      <th>ave_hum</th>\n",
       "    </tr>\n",
       "    <tr>\n",
       "      <th>dtt</th>\n",
       "      <th></th>\n",
       "      <th></th>\n",
       "      <th></th>\n",
       "      <th></th>\n",
       "    </tr>\n",
       "  </thead>\n",
       "  <tbody>\n",
       "    <tr>\n",
       "      <th>2017-03-27 00:00:00</th>\n",
       "      <td>강남</td>\n",
       "      <td>71.0</td>\n",
       "      <td>57.0</td>\n",
       "      <td>67.000000</td>\n",
       "    </tr>\n",
       "    <tr>\n",
       "      <th>2017-03-28 00:00:00</th>\n",
       "      <td>강남</td>\n",
       "      <td>87.0</td>\n",
       "      <td>61.0</td>\n",
       "      <td>62.500000</td>\n",
       "    </tr>\n",
       "    <tr>\n",
       "      <th>2017-03-29 00:00:00</th>\n",
       "      <td>강남</td>\n",
       "      <td>59.0</td>\n",
       "      <td>41.0</td>\n",
       "      <td>53.200001</td>\n",
       "    </tr>\n",
       "    <tr>\n",
       "      <th>2017-03-30 00:00:00</th>\n",
       "      <td>강남</td>\n",
       "      <td>72.0</td>\n",
       "      <td>47.0</td>\n",
       "      <td>50.500000</td>\n",
       "    </tr>\n",
       "    <tr>\n",
       "      <th>2017-03-31 00:00:00</th>\n",
       "      <td>강남</td>\n",
       "      <td>53.0</td>\n",
       "      <td>34.0</td>\n",
       "      <td>70.000000</td>\n",
       "    </tr>\n",
       "  </tbody>\n",
       "</table>\n",
       "</div>"
      ],
      "text/plain": [
       "                    loca  pm10  pm25    ave_hum\n",
       "dtt                                            \n",
       "2017-03-27 00:00:00  강남   71.0  57.0  67.000000\n",
       "2017-03-28 00:00:00  강남   87.0  61.0  62.500000\n",
       "2017-03-29 00:00:00  강남   59.0  41.0  53.200001\n",
       "2017-03-30 00:00:00  강남   72.0  47.0  50.500000\n",
       "2017-03-31 00:00:00  강남   53.0  34.0  70.000000"
      ]
     },
     "execution_count": 22,
     "metadata": {},
     "output_type": "execute_result"
    }
   ],
   "source": [
    "ds = pd.DataFrame()\n",
    "for y in y2u:\n",
    "    t = all_ds[y][all_ds[y]['loca']=='강남'].merge(\n",
    "        hum_ds[y][hum_ds[y]['loca']=='강남'], on=['dt','loca'], how='outer')\n",
    "    ds = ds.append(t)\n",
    "    \n",
    "ds['dt'] = pd.to_datetime(ds['dt'], format='%Y%m%d')\n",
    "ds.set_index('dt', inplace=True)\n",
    "fm2 = pd.date_range(st,ed)\n",
    "ds = ds.reindex(fm2, fill_value=np.nan)\n",
    "\n",
    "ds.loc[ds['loca'].isna()==True,'loca'] = '강남'\n",
    "ds['dtt'] = pd.to_datetime(ds.index)\n",
    "ds['dtt'] = pd.to_datetime(ds['dtt']).dt.strftime('%Y-%m-%d %H:%M:%S')\n",
    "ds.set_index('dtt', inplace=True)\n",
    "ds.tail()"
   ]
  },
  {
   "cell_type": "code",
   "execution_count": 25,
   "metadata": {},
   "outputs": [
    {
     "data": {
      "text/html": [
       "<div>\n",
       "<style scoped>\n",
       "    .dataframe tbody tr th:only-of-type {\n",
       "        vertical-align: middle;\n",
       "    }\n",
       "\n",
       "    .dataframe tbody tr th {\n",
       "        vertical-align: top;\n",
       "    }\n",
       "\n",
       "    .dataframe thead th {\n",
       "        text-align: right;\n",
       "    }\n",
       "</style>\n",
       "<table border=\"1\" class=\"dataframe\">\n",
       "  <thead>\n",
       "    <tr style=\"text-align: right;\">\n",
       "      <th></th>\n",
       "      <th>loca</th>\n",
       "      <th>pm10</th>\n",
       "      <th>pm25</th>\n",
       "      <th>ave_hum</th>\n",
       "    </tr>\n",
       "    <tr>\n",
       "      <th>dtt</th>\n",
       "      <th></th>\n",
       "      <th></th>\n",
       "      <th></th>\n",
       "      <th></th>\n",
       "    </tr>\n",
       "  </thead>\n",
       "  <tbody>\n",
       "    <tr>\n",
       "      <th>2015-01-01 00:00:00</th>\n",
       "      <td>gn</td>\n",
       "      <td>66.0</td>\n",
       "      <td>17.0</td>\n",
       "      <td>40.2</td>\n",
       "    </tr>\n",
       "    <tr>\n",
       "      <th>2015-01-02 00:00:00</th>\n",
       "      <td>gn</td>\n",
       "      <td>30.0</td>\n",
       "      <td>14.0</td>\n",
       "      <td>46.5</td>\n",
       "    </tr>\n",
       "    <tr>\n",
       "      <th>2015-01-03 00:00:00</th>\n",
       "      <td>gn</td>\n",
       "      <td>39.0</td>\n",
       "      <td>22.0</td>\n",
       "      <td>56.0</td>\n",
       "    </tr>\n",
       "    <tr>\n",
       "      <th>2015-01-04 00:00:00</th>\n",
       "      <td>gn</td>\n",
       "      <td>40.0</td>\n",
       "      <td>23.0</td>\n",
       "      <td>68.1</td>\n",
       "    </tr>\n",
       "    <tr>\n",
       "      <th>2015-01-05 00:00:00</th>\n",
       "      <td>gn</td>\n",
       "      <td>74.0</td>\n",
       "      <td>41.0</td>\n",
       "      <td>71.5</td>\n",
       "    </tr>\n",
       "  </tbody>\n",
       "</table>\n",
       "</div>"
      ],
      "text/plain": [
       "                    loca  pm10  pm25  ave_hum\n",
       "dtt                                          \n",
       "2015-01-01 00:00:00  gn   66.0  17.0  40.2   \n",
       "2015-01-02 00:00:00  gn   30.0  14.0  46.5   \n",
       "2015-01-03 00:00:00  gn   39.0  22.0  56.0   \n",
       "2015-01-04 00:00:00  gn   40.0  23.0  68.1   \n",
       "2015-01-05 00:00:00  gn   74.0  41.0  71.5   "
      ]
     },
     "metadata": {},
     "output_type": "display_data"
    }
   ],
   "source": [
    "ds['loca'] = np.where((ds['loca']=='강남')|(ds['loca']=='gn'), 'gn', '')\n",
    "assert ds[ds['loca']!='gn'].shape[0] == 0\n",
    "display(ds.head())\n",
    "ds[['loca','pm10']].to_csv(raw + '/testset.csv', index=True, encoding='cp949')\n",
    "ds = ds[ds.index <= '2017-01-01']\n",
    "ds[['loca','pm10']].to_csv(raw + '/testset_upto_2016.csv', index=True, encoding='cp949')"
   ]
  },
  {
   "cell_type": "code",
   "execution_count": null,
   "metadata": {},
   "outputs": [],
   "source": [
    "plt.ylim([0,125])\n",
    "plt.plot(ds['pm10'])\n",
    "plt.plot(ds['ave_hum'])"
   ]
  },
  {
   "cell_type": "code",
   "execution_count": null,
   "metadata": {},
   "outputs": [],
   "source": [
    "plt.plot(ds['pm10'])"
   ]
  },
  {
   "cell_type": "code",
   "execution_count": null,
   "metadata": {},
   "outputs": [],
   "source": [
    "plt.subplots(figsize=(25,9))\n",
    "# plt.subplot(1, 3, 1)\n",
    "# plt.plot(ds['pm10'])\n",
    "plt.subplot(1, 3, 1)\n",
    "plt.plot(ds.loc['2015-1-1':'2015-12-31',['pm10']])\n",
    "plt.subplot(1, 3, 2)\n",
    "plt.plot(ds.loc['2016-1-1':'2016-12-31',['pm10']])\n",
    "plt.subplot(1, 3, 3)\n",
    "plt.plot(ds.loc['2017-1-1':'2017-12-31',['pm10']])"
   ]
  },
  {
   "cell_type": "markdown",
   "metadata": {},
   "source": [
    "# straignt up copy from here"
   ]
  },
  {
   "cell_type": "code",
   "execution_count": null,
   "metadata": {},
   "outputs": [],
   "source": [
    "dc = ds.copy()\n",
    "print(dc.isna().sum())\n",
    "dc.loc[:,'pm10'] = mih.median_filter(dc, varname='pm10', std=4)\n",
    "print(dc.isna().sum())\n",
    "plt.plot(dc['pm10'])"
   ]
  },
  {
   "cell_type": "code",
   "execution_count": null,
   "metadata": {},
   "outputs": [],
   "source": [
    "subs = dc\n",
    "\n",
    "seas_cycl = subs.loc[:,'pm10'].rolling(window=30, center=True).\\\n",
    "            median().groupby(subs.index.dayofyear).median()\n",
    "q25 = subs.loc[:,'pm10'].rolling(window=30, center=True).\\\n",
    "            median().groupby(subs.index.dayofyear).quantile(0.25)\n",
    "q75 = subs.loc[:,'pm10'].rolling(window=30, center=True).\\\n",
    "            median().groupby(subs.index.dayofyear).quantile(0.75)"
   ]
  },
  {
   "cell_type": "code",
   "execution_count": null,
   "metadata": {},
   "outputs": [],
   "source": [
    "from calendar import day_abbr, month_abbr, mdays\n",
    "ndays_m = mdays.copy()\n",
    "ndays_m[2] = 29\n",
    "ndays_m = np.cumsum(ndays_m)\n",
    "month_abbr = month_abbr[1:]\n",
    "print(month_abbr)"
   ]
  },
  {
   "cell_type": "code",
   "execution_count": null,
   "metadata": {},
   "outputs": [],
   "source": [
    "f, ax = plt.subplots(figsize=(8,6)) \n",
    "\n",
    "seas_cycl.plot(ax=ax, lw=2, color='k', legend=False)\n",
    "\n",
    "ax.fill_between(seas_cycl.index, q25.values.ravel(), q75.values.ravel(), color='0.8')\n",
    "\n",
    "ax.set_xticks(ndays_m)\n",
    "ax.set_xticklabels(month_abbr)\n",
    "\n",
    "ax.grid(ls=':')\n",
    "\n",
    "ax.set_xlabel('', fontsize=15)\n",
    "\n",
    "ax.set_ylabel('cyclists number', fontsize=15);\n",
    "\n",
    "[l.set_fontsize(13) for l in ax.xaxis.get_ticklabels()]\n",
    "[l.set_fontsize(13) for l in ax.yaxis.get_ticklabels()]\n",
    "\n",
    "ax.set_title('Running Average of Daily PM10 Level from 2014 to 2018', fontsize=15)"
   ]
  },
  {
   "cell_type": "code",
   "execution_count": null,
   "metadata": {},
   "outputs": [],
   "source": [
    "dc.head()"
   ]
  },
  {
   "cell_type": "code",
   "execution_count": null,
   "metadata": {},
   "outputs": [],
   "source": [
    "data = dc[['pm10']]\n",
    "f, ax = plt.subplots(figsize=(14,8))\n",
    "\n",
    "# plt.plot(data)\n",
    "# data.plot(ax=ax, color='0.2')\n",
    "plt.plot(data, color='0.2')\n",
    "data.rolling(window=30, center=True).mean().plot(ax=ax, ls='-', lw=3, color='0.6')\n",
    "\n",
    "ax.grid(ls=':')\n",
    "ax.legend(['daily values','30 days running average'], frameon=False, fontsize=14)\n",
    "\n",
    "[l.set_fontsize(13) for l in ax.xaxis.get_ticklabels()]\n",
    "[l.set_fontsize(13) for l in ax.yaxis.get_ticklabels()]\n",
    "\n",
    "ax.set_xlabel('Date', fontsize=15)\n",
    "ax.set_ylabel('PM10 Level', fontsize=15);\n",
    "# ax.axvline('2018-01-01', color='0.8', lw=8, zorder=-1)\n",
    "data.rename(columns={'pm10':'y', 'index':'ds'}, inplace=True)"
   ]
  },
  {
   "cell_type": "code",
   "execution_count": null,
   "metadata": {},
   "outputs": [],
   "source": [
    "data_train, data_test = mih.prepare_data(data, 2017)\n",
    "data_train.rename(columns={'index':'ds'}, inplace=True)\n",
    "data_test.rename(columns={'index':'ds'}, inplace=True)\n",
    "display(data_train.tail())\n",
    "display(data_test.head())\n",
    "display(data_test.tail())\n",
    "\n",
    "Prophet = fbprophet.Prophet\n",
    "m = Prophet(mcmc_samples=300, changepoint_prior_scale=0.01, seasonality_mode='multiplicative', \\\n",
    "            yearly_seasonality=12, \\\n",
    "            weekly_seasonality=False, \\\n",
    "            daily_seasonality=False)\n",
    "# m.add_seasonality(name='monthly', period=30.5, fourier_order=8)"
   ]
  },
  {
   "cell_type": "code",
   "execution_count": null,
   "metadata": {},
   "outputs": [],
   "source": [
    "m.fit(data_train)"
   ]
  },
  {
   "cell_type": "code",
   "execution_count": null,
   "metadata": {},
   "outputs": [],
   "source": [
    "future = m.make_future_dataframe(periods=len(data_test), freq='1D')\n",
    "future.tail()"
   ]
  },
  {
   "cell_type": "code",
   "execution_count": null,
   "metadata": {},
   "outputs": [],
   "source": [
    "forecast = m.predict(future)"
   ]
  },
  {
   "cell_type": "code",
   "execution_count": null,
   "metadata": {},
   "outputs": [],
   "source": [
    "f = m.plot_components(forecast)"
   ]
  },
  {
   "cell_type": "code",
   "execution_count": null,
   "metadata": {},
   "outputs": [],
   "source": [
    "verif = mih.make_verif(forecast, data_train, data_test)"
   ]
  },
  {
   "cell_type": "code",
   "execution_count": null,
   "metadata": {},
   "outputs": [],
   "source": [
    "f = mih.plot_verif(verif, year=2017)"
   ]
  },
  {
   "cell_type": "code",
   "execution_count": null,
   "metadata": {},
   "outputs": [],
   "source": [
    "print(verif.shape)\n",
    "print(verif.isna().sum())\n",
    "verif.head()\n",
    "verif[verif['y'].isna()==True].head()"
   ]
  },
  {
   "cell_type": "code",
   "execution_count": null,
   "metadata": {},
   "outputs": [],
   "source": [
    "# display(data_train[data_train['ds']=='2014-4-16'])\n",
    "# display(ds.loc['2014-4-16'])\n",
    "# display(dc.loc['2014-4-16'])"
   ]
  },
  {
   "cell_type": "code",
   "execution_count": null,
   "metadata": {},
   "outputs": [],
   "source": [
    "print(verif.loc[(verif['ds']>='2016-1-1') & (verif['ds']<='2016-12-31') & \\\n",
    "                (verif['y'].isna()==False),['y']].min())\n",
    "print(verif.loc[(verif['ds']>='2016-1-1') & (verif['ds']<='2016-12-31') & \\\n",
    "                (verif['y'].isna()==False),['y']].max())"
   ]
  },
  {
   "cell_type": "code",
   "execution_count": null,
   "metadata": {},
   "outputs": [],
   "source": [
    "def plot_joint_plot(verif, x='yhat', y='y', title=None, fpath = '../figures/paper', fname = None):\n",
    "    \"\"\"\n",
    "\n",
    "    Parameters\n",
    "    ----------\n",
    "    verif : pandas.DataFrame\n",
    "\n",
    "    x : string\n",
    "        The variable on the x-axis\n",
    "        Defaults to `yhat`, i.e. the forecast or estimated values.\n",
    "\n",
    "    y : string\n",
    "        The variable on the y-axis\n",
    "        Defaults to `y`, i.e. the observed values\n",
    "\n",
    "    title : string\n",
    "        The title of the figure, default `None`.\n",
    "\n",
    "    fpath : string\n",
    "        The path to save the figures, default to `../figures/paper`\n",
    "\n",
    "    fname : string\n",
    "        The filename for the figure to be saved\n",
    "        ommits the extension, the figure is saved in png, jpeg and pdf\n",
    "\n",
    "    Returns\n",
    "    -------\n",
    "    f : matplotlib Figure object\n",
    "    \"\"\"\n",
    "\n",
    "    g = sns.jointplot(x='yhat', y='y', data = verif, kind=\"reg\", color=\"0.4\")\n",
    "\n",
    "    g.fig.set_figwidth(8)\n",
    "    g.fig.set_figheight(8)\n",
    "\n",
    "    ax = g.fig.axes[1]\n",
    "\n",
    "    if title is not None:\n",
    "        ax.set_title(title, fontsize=16)\n",
    "\n",
    "    ax = g.fig.axes[0]\n",
    "\n",
    "    ax.set_xlim([-5, None])\n",
    "#     ax.set_ylim([-5, 3000])\n",
    "    ax.set_ylim([-5, 200])\n",
    "\n",
    "#     ax.text(100, 2500, \"R = {:+4.2f}\\nMAE = {:4.1f}\".format(verif.loc[:,['y','yhat']].corr().iloc[0,1], MAE(verif.loc[:,'y'].values, verif.loc[:,'yhat'].values)), fontsize=16)\n",
    "\n",
    "    ax.set_xlabel(\"model's estimates\", fontsize=15)\n",
    "\n",
    "    ax.set_ylabel(\"observations\", fontsize=15)\n",
    "\n",
    "    ax.grid(ls=':')\n",
    "\n",
    "    [l.set_fontsize(13) for l in ax.xaxis.get_ticklabels()]\n",
    "    [l.set_fontsize(13) for l in ax.yaxis.get_ticklabels()];\n",
    "\n",
    "    ax.grid(ls=':')"
   ]
  },
  {
   "cell_type": "code",
   "execution_count": null,
   "metadata": {},
   "outputs": [],
   "source": [
    "# mih.plot_joint_plot(verif.loc[:'2016',:], title='train set', fname='train_set_joint_plot_no_climate')\n",
    "# mih.plot_joint_plot(verif.loc[(verif['ds']>='2016-1-1') & (verif['ds']<='2016-12-31') & (verif['y'].isna()==False),:], title='train set', fname='train_set_joint_plot_no_climate')\n",
    "plot_joint_plot(verif.loc[(verif['ds']>='2015-1-1') & (verif['ds']<='2016-12-31') & (verif['y'].isna()==False),:], title='train set', fname='train_set_joint_plot_no_climate')"
   ]
  },
  {
   "cell_type": "code",
   "execution_count": null,
   "metadata": {},
   "outputs": [],
   "source": [
    "plot_joint_plot(verif.loc[(verif['ds']>='2017-1-1') & (verif['y'].isna()==False),:], title='train set', fname='train_set_joint_plot_no_climate')"
   ]
  },
  {
   "cell_type": "code",
   "execution_count": null,
   "metadata": {},
   "outputs": [],
   "source": [
    "verif.loc[:,['y','yhat']].corr()"
   ]
  },
  {
   "cell_type": "code",
   "execution_count": null,
   "metadata": {},
   "outputs": [],
   "source": [
    "verif.tail()"
   ]
  },
  {
   "cell_type": "code",
   "execution_count": null,
   "metadata": {},
   "outputs": [],
   "source": []
  },
  {
   "cell_type": "code",
   "execution_count": null,
   "metadata": {},
   "outputs": [],
   "source": [
    "def make_plot_block(verif, start_date, end_date, ax=None): \n",
    "    \n",
    "    df = verif.loc[start_date:end_date,:]\n",
    "    df = df[df['y'].isnull()==False]\n",
    "    df.loc[:,'yhat'].plot(lw=2, ax=ax, color='r', ls='-', label='forecasts')\n",
    "    ax.fill_between(df.index, df.loc[:,'yhat_lower'], df.loc[:,'yhat_upper'], color='coral', alpha=0.3)\n",
    "    df.loc[:,'y'].plot(lw=2, ax=ax, color='steelblue', ls='-', label='observations')\n",
    "\n",
    "    ax.grid(ls=':')\n",
    "    ax.legend(fontsize=15)\n",
    "    [l.set_fontsize(13) for l in ax.xaxis.get_ticklabels()]\n",
    "    [l.set_fontsize(13) for l in ax.yaxis.get_ticklabels()]\n",
    "    ax.set_ylabel('cyclists number', fontsize=15)\n",
    "    ax.set_xlabel('', fontsize=15)\n",
    "\n",
    "    ax.set_title(f'{start_date} to {end_date}', fontsize=18)"
   ]
  },
  {
   "cell_type": "code",
   "execution_count": null,
   "metadata": {},
   "outputs": [],
   "source": [
    "f, axes = plt.subplots(figsize=(17,10), sharey=True)\n",
    "make_plot_block(verif, '2015-1-1', '2016-3-31', ax=axes)"
   ]
  },
  {
   "cell_type": "code",
   "execution_count": null,
   "metadata": {},
   "outputs": [],
   "source": [
    "f, axes = plt.subplots(figsize=(17,10), sharey=True)\n",
    "make_plot_block(verif, '2016-1-1', '2017-3-31', ax=axes)"
   ]
  },
  {
   "cell_type": "code",
   "execution_count": null,
   "metadata": {},
   "outputs": [],
   "source": [
    "f, axes = plt.subplots(figsize=(17,10), sharey=True)\n",
    "make_plot_block(verif, '2016-1-1', '2016-12-31', ax=axes)"
   ]
  },
  {
   "cell_type": "code",
   "execution_count": null,
   "metadata": {},
   "outputs": [],
   "source": [
    "f, axes = plt.subplots(figsize=(17,10), sharey=True)\n",
    "make_plot_block(verif, '2016-9-1', '2017-3-31', ax=axes)"
   ]
  },
  {
   "cell_type": "code",
   "execution_count": null,
   "metadata": {},
   "outputs": [],
   "source": [
    "f, axes = plt.subplots(figsize=(17,10), sharey=True)\n",
    "make_plot_block(verif, '2017-1-1', '2017-12-31', ax=axes)"
   ]
  },
  {
   "cell_type": "code",
   "execution_count": null,
   "metadata": {},
   "outputs": [],
   "source": [
    "def make_plot_block(verif, start_date, end_date, ax=None): \n",
    "    \n",
    "    df = verif.loc[start_date:end_date,:]\n",
    "#     df = df[df['y'].isnull()==False]\n",
    "#     df.loc[:,'yhat'].plot(lw=2, ax=ax, color='r', ls='-', label='forecasts')\n",
    "    plt.plot(df['yhat'], lw=2, color='r')\n",
    "#     df.yhat.plot(lw=2, ax=ax, color='r', ls='-', label='forecasts')\n",
    "    ax.fill_between(df.index, df.loc[:,'yhat_lower'], df.loc[:,'yhat_upper'], color='coral', alpha=0.3)\n",
    "    plt.plot(df['y'], lw=2, color='steelblue')\n",
    "#     df.y.plot(lw=2, ax=ax, color='steelblue', ls='-', label='observations')\n",
    "    \n",
    "\n",
    "    ax.grid(ls=':')\n",
    "    ax.legend(fontsize=15)\n",
    "    [l.set_fontsize(13) for l in ax.xaxis.get_ticklabels()]\n",
    "    [l.set_fontsize(13) for l in ax.yaxis.get_ticklabels()]\n",
    "    ax.set_ylabel('cyclists number', fontsize=15)\n",
    "    ax.set_xlabel('', fontsize=15)\n",
    "\n",
    "    ax.set_title(f'{start_date} to {end_date}', fontsize=18)\n",
    "\n",
    "f, axes = plt.subplots(figsize=(17,10), sharey=True)\n",
    "make_plot_block(verif, '2018-1-1', '2018-12-31', ax=axes)"
   ]
  },
  {
   "cell_type": "code",
   "execution_count": null,
   "metadata": {},
   "outputs": [],
   "source": [
    "verif.loc['2018',['y','yhat']]"
   ]
  },
  {
   "cell_type": "code",
   "execution_count": null,
   "metadata": {},
   "outputs": [],
   "source": []
  },
  {
   "cell_type": "code",
   "execution_count": null,
   "metadata": {},
   "outputs": [],
   "source": []
  }
 ],
 "metadata": {
  "celltoolbar": "Raw Cell Format",
  "kernelspec": {
   "display_name": "Python 3",
   "language": "python",
   "name": "python3"
  }
 },
 "nbformat": 4,
 "nbformat_minor": 2
}
